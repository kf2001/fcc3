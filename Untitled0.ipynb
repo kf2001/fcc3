{
  "nbformat": 4,
  "nbformat_minor": 0,
  "metadata": {
    "colab": {
      "provenance": [],
      "authorship_tag": "ABX9TyMCoDtDGwLk069Q05bpXQ3j",
      "include_colab_link": true
    },
    "kernelspec": {
      "name": "python3",
      "display_name": "Python 3"
    },
    "language_info": {
      "name": "python"
    }
  },
  "cells": [
    {
      "cell_type": "markdown",
      "metadata": {
        "id": "view-in-github",
        "colab_type": "text"
      },
      "source": [
        "<a href=\"https://colab.research.google.com/github/kf2001/fcc3/blob/master/Untitled0.ipynb\" target=\"_parent\"><img src=\"https://colab.research.google.com/assets/colab-badge.svg\" alt=\"Open In Colab\"/></a>"
      ]
    },
    {
      "cell_type": "code",
      "execution_count": null,
      "metadata": {
        "id": "4QWdkuDOoa2Y"
      },
      "outputs": [],
      "source": [
        "import pandas as pd\n",
        "import numpy sas np\n",
        "import xgboost as xgb\n",
        "from sklearn.model_selection import train.test_split\n",
        "from sklearn.metrics import balanced_accuracy_score, roc_auc_score, make_scorer\n",
        "from sklearn.model_selection import GridSearchCv\n",
        "from sklearn.metrics import confusion_matrix\n",
        "from sklearn.metrics import plot_confusion_matrix\n",
        "\n"
      ]
    }
  ]
}